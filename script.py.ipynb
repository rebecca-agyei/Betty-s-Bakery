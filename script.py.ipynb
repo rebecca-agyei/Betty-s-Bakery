{
 "cells": [
  {
   "cell_type": "code",
   "execution_count": 1,
   "id": "ae93489c",
   "metadata": {},
   "outputs": [],
   "source": [
    "import numpy as np"
   ]
  },
  {
   "cell_type": "code",
   "execution_count": 2,
   "id": "af7bb15e",
   "metadata": {},
   "outputs": [],
   "source": [
    "cupcakes = np.array([2, 0.75, 2, 1, 0.5])"
   ]
  },
  {
   "cell_type": "code",
   "execution_count": 5,
   "id": "9ac4e816",
   "metadata": {},
   "outputs": [
    {
     "name": "stdout",
     "output_type": "stream",
     "text": [
      "[[2.    0.75  2.    1.    0.5  ]\n",
      " [1.    0.125 1.    1.    0.125]\n",
      " [2.75  1.5   1.    0.    1.   ]\n",
      " [4.    0.5   2.    2.    0.5  ]]\n"
     ]
    }
   ],
   "source": [
    "recipes = np.genfromtxt(\"recipes.csv\", delimiter = \",\")\n",
    "print(recipes)"
   ]
  },
  {
   "cell_type": "code",
   "execution_count": 7,
   "id": "8808891e",
   "metadata": {},
   "outputs": [
    {
     "data": {
      "text/plain": [
       "array([2., 1., 1., 2.])"
      ]
     },
     "execution_count": 7,
     "metadata": {},
     "output_type": "execute_result"
    }
   ],
   "source": [
    "eggs = recipes[:, 2]\n",
    "#eggs"
   ]
  },
  {
   "cell_type": "code",
   "execution_count": 8,
   "id": "42982219",
   "metadata": {},
   "outputs": [
    {
     "name": "stdout",
     "output_type": "stream",
     "text": [
      "[[1.    0.125 1.    1.    0.125]\n",
      " [2.75  1.5   1.    0.    1.   ]]\n"
     ]
    }
   ],
   "source": [
    "one_egg_recipes = recipes[eggs == 1]\n",
    "print(one_egg_recipes)"
   ]
  },
  {
   "cell_type": "code",
   "execution_count": 9,
   "id": "4266ed39",
   "metadata": {},
   "outputs": [
    {
     "data": {
      "text/plain": [
       "array([2.75, 1.5 , 1.  , 0.  , 1.  ])"
      ]
     },
     "execution_count": 9,
     "metadata": {},
     "output_type": "execute_result"
    }
   ],
   "source": [
    "cookies = recipes[2, :]\n",
    "#cookies"
   ]
  },
  {
   "cell_type": "code",
   "execution_count": 10,
   "id": "8013113a",
   "metadata": {},
   "outputs": [
    {
     "data": {
      "text/plain": [
       "array([4. , 1.5, 4. , 2. , 1. ])"
      ]
     },
     "execution_count": 10,
     "metadata": {},
     "output_type": "execute_result"
    }
   ],
   "source": [
    "double_batch = cupcakes * 2\n",
    "#double_batch"
   ]
  },
  {
   "cell_type": "code",
   "execution_count": 11,
   "id": "3797ee2b",
   "metadata": {},
   "outputs": [
    {
     "data": {
      "text/plain": [
       "array([6.75, 3.  , 5.  , 2.  , 2.  ])"
      ]
     },
     "execution_count": 11,
     "metadata": {},
     "output_type": "execute_result"
    }
   ],
   "source": [
    "grocery_list = cookies + double_batch\n",
    "#grocery_list"
   ]
  },
  {
   "cell_type": "code",
   "execution_count": null,
   "id": "b4ed254c",
   "metadata": {},
   "outputs": [],
   "source": []
  }
 ],
 "metadata": {
  "kernelspec": {
   "display_name": "Python 3",
   "language": "python",
   "name": "python3"
  },
  "language_info": {
   "codemirror_mode": {
    "name": "ipython",
    "version": 3
   },
   "file_extension": ".py",
   "mimetype": "text/x-python",
   "name": "python",
   "nbconvert_exporter": "python",
   "pygments_lexer": "ipython3",
   "version": "3.8.8"
  }
 },
 "nbformat": 4,
 "nbformat_minor": 5
}
